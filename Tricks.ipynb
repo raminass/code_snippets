{
  "nbformat": 4,
  "nbformat_minor": 0,
  "metadata": {
    "bento_stylesheets": {
      "bento/extensions/flow/main.css": true,
      "bento/extensions/kernel_selector/main.css": true,
      "bento/extensions/kernel_ui/main.css": true,
      "bento/extensions/new_kernel/main.css": true,
      "bento/extensions/system_usage/main.css": true,
      "bento/extensions/theme/main.css": true
    },
    "kernelspec": {
      "display_name": "Python 3",
      "language": "python",
      "name": "bento_kernel_default"
    },
    "language_info": {
      "codemirror_mode": {
        "name": "ipython",
        "version": 3
      },
      "file_extension": ".py",
      "mimetype": "text/x-python",
      "name": "python",
      "nbconvert_exporter": "python",
      "pygments_lexer": "ipython3",
      "version": "3.7.5+"
    },
    "colab": {
      "name": "Tricks.ipynb",
      "provenance": [],
      "include_colab_link": true
    }
  },
  "cells": [
    {
      "cell_type": "markdown",
      "metadata": {
        "id": "view-in-github",
        "colab_type": "text"
      },
      "source": [
        "<a href=\"https://colab.research.google.com/github/raminass/code_snippets/blob/master/Tricks.ipynb\" target=\"_parent\"><img src=\"https://colab.research.google.com/assets/colab-badge.svg\" alt=\"Open In Colab\"/></a>"
      ]
    },
    {
      "cell_type": "code",
      "metadata": {
        "id": "9NIrZmjzTLbh",
        "colab_type": "code",
        "colab": {}
      },
      "source": [
        "# How to merge two dictionaries\n",
        "# in Python 3.5+\n",
        "\n",
        "x = {'a': 1, 'b': 2}\n",
        "y = {'b': 3, 'c': 4}\n",
        "\n",
        "z = {**x, **y}\n",
        "\n",
        "z\n",
        "{'c': 4, 'a': 1, 'b': 3}\n",
        "\n",
        "# In Python 2.x you could\n",
        "# use this:\n",
        "z = dict(x, **y)\n",
        "z\n",
        "{'a': 1, 'c': 4, 'b': 3}\n",
        "\n",
        "# In these examples, Python merges dictionary keys\n",
        "# in the order listed in the expression, overwriting \n",
        "# duplicates from left to right.\n",
        "#\n",
        "# See: https://www.youtube.com/watch?v=Duexw08KaC8"
      ],
      "execution_count": 0,
      "outputs": []
    },
    {
      "cell_type": "code",
      "metadata": {
        "id": "jhm2uM6TTLbm",
        "colab_type": "code",
        "colab": {}
      },
      "source": [
        "# Different ways to test multiple\n",
        "# flags at once in Python\n",
        "x, y, z = 0, 1, 0\n",
        "\n",
        "if x == 1 or y == 1 or z == 1:\n",
        "    print('passed')\n",
        "\n",
        "if 1 in (x, y, z):\n",
        "    print('passed')\n",
        "\n",
        "# These only test for truthiness:\n",
        "if x or y or z:\n",
        "    print('passed')\n",
        "\n",
        "if any((x, y, z)):\n",
        "    print('passed')"
      ],
      "execution_count": 0,
      "outputs": []
    },
    {
      "cell_type": "code",
      "metadata": {
        "id": "tWrN2aqwTLbp",
        "colab_type": "code",
        "colab": {}
      },
      "source": [
        "# How to sort a Python dict by value\n",
        "# (== get a representation sorted by value)\n",
        "\n",
        "xs = {'a': 4, 'b': 3, 'c': 2, 'd': 1}\n",
        "\n",
        "sorted(xs.items(), key=lambda x: x[1])\n",
        "[('d', 1), ('c', 2), ('b', 3), ('a', 4)]\n",
        "\n",
        "# Or:\n",
        "\n",
        "import operator\n",
        "sorted(xs.items(), key=operator.itemgetter(1))\n",
        "[('d', 1), ('c', 2), ('b', 3), ('a', 4)]"
      ],
      "execution_count": 0,
      "outputs": []
    },
    {
      "cell_type": "code",
      "metadata": {
        "id": "DjjitVZSTLbr",
        "colab_type": "code",
        "colab": {}
      },
      "source": [
        "# The get() method on dicts\n",
        "# and its \"default\" argument\n",
        "\n",
        "name_for_userid = {\n",
        "    382: \"Alice\",\n",
        "    590: \"Bob\",\n",
        "    951: \"Dilbert\",\n",
        "}\n",
        "\n",
        "def greeting(userid):\n",
        "    return \"Hi %s!\" % name_for_userid.get(userid, \"there\")\n",
        "\n",
        "greeting(382)\n",
        "\"Hi Alice!\"\n",
        "\n",
        "greeting(333333)\n",
        "\"Hi there!\"\n",
        "\n",
        "\n",
        "# When \"get()\" is called it checks if the given key exists in the dict.\n",
        "\n",
        "# If it does exist, the value for that key is returned.\n",
        "\n",
        "# If it does not exist then the value of the default argument is returned instead.\n"
      ],
      "execution_count": 0,
      "outputs": []
    },
    {
      "cell_type": "code",
      "metadata": {
        "id": "Xt7Y2EuBTLbt",
        "colab_type": "code",
        "colab": {},
        "outputId": "97b0bc52-9d60-4dda-ebeb-6185e334392a"
      },
      "source": [
        "# Why Python is Great: Namedtuples\n",
        "# Using namedtuple is way shorter than\n",
        "# defining a class manually:\n",
        "from collections import namedtuple\n",
        "Car = namedtuple('Car', 'color mileage')\n",
        "\n",
        "# Our new \"Car\" class works as expected:\n",
        "my_car = Car('red', 3812.4)\n",
        "my_car.color\n",
        "'red'\n",
        "my_car.mileage\n",
        "3812.4\n",
        "\n",
        "# We get a nice string repr for free:\n",
        "my_car\n",
        "Car(color='red' , mileage=3812.4)\n",
        "\n",
        "# Like tuples, namedtuples are immutable:\n",
        "my_car.color = 'blue'\n",
        "AttributeError: \"can't set attribute\""
      ],
      "execution_count": 0,
      "outputs": [
        {
          "output_type": "error",
          "ename": "AttributeError",
          "evalue": "can't set attribute",
          "traceback": [
            "\u001b[0;31m---------------------------------------------------------------------------\u001b[0m",
            "\u001b[0;31mAttributeError\u001b[0m                            Traceback (most recent call last)",
            "\u001b[0;32m<ipython-input-2-8e56f1087ade>\u001b[0m in \u001b[0;36m<module>\u001b[0;34m()\u001b[0m\n\u001b[1;32m     17\u001b[0m \u001b[0;34m\u001b[0m\u001b[0m\n\u001b[1;32m     18\u001b[0m \u001b[0;31m# Like tuples, namedtuples are immutable:\u001b[0m\u001b[0;34m\u001b[0m\u001b[0;34m\u001b[0m\u001b[0m\n\u001b[0;32m---> 19\u001b[0;31m \u001b[0mmy_car\u001b[0m\u001b[0;34m.\u001b[0m\u001b[0mcolor\u001b[0m \u001b[0;34m=\u001b[0m \u001b[0;34m'blue'\u001b[0m\u001b[0;34m\u001b[0m\u001b[0m\n\u001b[0m\u001b[1;32m     20\u001b[0m \u001b[0mAttributeError\u001b[0m\u001b[0;34m:\u001b[0m \u001b[0;34m\"can't set attribute\"\u001b[0m\u001b[0;34m\u001b[0m\u001b[0m\n",
            "\u001b[0;31mAttributeError\u001b[0m: can't set attribute"
          ]
        }
      ]
    },
    {
      "cell_type": "code",
      "metadata": {
        "id": "SCYiRdoNTLbw",
        "colab_type": "code",
        "colab": {}
      },
      "source": [
        "# The standard string repr for dicts is hard to read:\n",
        ">>> my_mapping = {'a': 23, 'b': 42, 'c': 0xc0ffee}\n",
        ">>> my_mapping\n",
        "{'b': 42, 'c': 12648430. 'a': 23}  # 😞\n",
        "\n",
        "# The \"json\" module can do a much better job:\n",
        ">>> import json\n",
        ">>> print(json.dumps(my_mapping, indent=4, sort_keys=True))\n",
        "{\n",
        "    \"a\": 23,\n",
        "    \"b\": 42,\n",
        "    \"c\": 12648430\n",
        "}\n",
        "\n",
        "# Note this only works with dicts containing\n",
        "# primitive types (check out the \"pprint\" module):\n",
        ">>> json.dumps({all: 'yup'})\n",
        "TypeError: keys must be a string"
      ],
      "execution_count": 0,
      "outputs": []
    },
    {
      "cell_type": "code",
      "metadata": {
        "id": "RGFmDyxMTLbx",
        "colab_type": "code",
        "colab": {}
      },
      "source": [
        "# Because Python has first-class functions they can\n",
        "# be used to emulate switch/case statements\n",
        "\n",
        "def dispatch_if(operator, x, y):\n",
        "    if operator == 'add':\n",
        "        return x + y\n",
        "    elif operator == 'sub':\n",
        "        return x - y\n",
        "    elif operator == 'mul':\n",
        "        return x * y\n",
        "    elif operator == 'div':\n",
        "        return x / y\n",
        "    else:\n",
        "        return None\n",
        "\n",
        "\n",
        "def dispatch_dict(operator, x, y):\n",
        "    return {\n",
        "        'add': lambda: x + y,\n",
        "        'sub': lambda: x - y,\n",
        "        'mul': lambda: x * y,\n",
        "        'div': lambda: x / y,\n",
        "    }.get(operator, lambda: None)()\n",
        "\n",
        "\n",
        ">>> dispatch_if('mul', 2, 8)\n",
        "16\n",
        "\n",
        ">>> dispatch_dict('mul', 2, 8)\n",
        "16\n",
        "\n",
        ">>> dispatch_if('unknown', 2, 8)\n",
        "None\n",
        "\n",
        ">>> dispatch_dict('unknown', 2, 8)\n",
        "None"
      ],
      "execution_count": 0,
      "outputs": []
    },
    {
      "cell_type": "code",
      "metadata": {
        "id": "5DMwr4nyTLbz",
        "colab_type": "code",
        "colab": {},
        "outputId": "c78b87ed-7ae4-4449-d3ce-b770e59fe8fe"
      },
      "source": [
        "# Python's list comprehensions are awesome.\n",
        "\n",
        "# vals = [expression \n",
        "#         for value in collection \n",
        "#         if condition]\n",
        "\n",
        "# This is equivalent to:\n",
        "\n",
        "# vals = []\n",
        "# for value in collection:\n",
        "#     if condition:\n",
        "#         vals.append(expression)\n",
        "\n",
        "# Example:\n",
        "\n",
        "even_squares = [x * x for x in range(10) if not x % 2]\n",
        "even_squares\n"
      ],
      "execution_count": 0,
      "outputs": [
        {
          "output_type": "execute_result",
          "data": {
            "text/plain": [
              "[0, 4, 16, 36, 64]"
            ]
          },
          "metadata": {
            "tags": [],
            "bento_obj_id": "140084419399496"
          },
          "execution_count": 2
        }
      ]
    },
    {
      "cell_type": "code",
      "metadata": {
        "id": "2x67z1LwTLb1",
        "colab_type": "code",
        "colab": {}
      },
      "source": [
        "# Python's list slice syntax can be used without indices\n",
        "# for a few fun and useful things:\n",
        "\n",
        "# You can clear all elements from a list:\n",
        ">>> lst = [1, 2, 3, 4, 5]\n",
        ">>> del lst[:]\n",
        ">>> lst\n",
        "[]\n",
        "\n",
        "# You can replace all elements of a list\n",
        "# without creating a new list object:\n",
        ">>> a = lst\n",
        ">>> lst[:] = [7, 8, 9]\n",
        ">>> lst\n",
        "[7, 8, 9]\n",
        ">>> a\n",
        "[7, 8, 9]\n",
        ">>> a is lst\n",
        "True\n",
        "\n",
        "# You can also create a (shallow) copy of a list:\n",
        ">>> b = lst[:]\n",
        ">>> b\n",
        "[7, 8, 9]\n",
        ">>> b is lst\n",
        "False"
      ],
      "execution_count": 0,
      "outputs": []
    },
    {
      "cell_type": "code",
      "metadata": {
        "id": "dQLnd4DXTLb4",
        "colab_type": "code",
        "colab": {}
      },
      "source": [
        "# collections.Counter lets you find the most common\n",
        "# elements in an iterable:\n",
        "\n",
        ">>> import collections\n",
        ">>> c = collections.Counter('helloworld')\n",
        "\n",
        ">>> c\n",
        "Counter({'l': 3, 'o': 2, 'e': 1, 'd': 1, 'h': 1, 'r': 1, 'w': 1})\n",
        "\n",
        ">>> c.most_common(3)\n",
        "[('l', 3), ('o', 2), ('e', 1)]"
      ],
      "execution_count": 0,
      "outputs": []
    },
    {
      "cell_type": "code",
      "metadata": {
        "id": "vUlah14HTLb6",
        "colab_type": "code",
        "colab": {}
      },
      "source": [
        "# itertools.permutations() generates permutations \n",
        "# for an iterable. Time to brute-force those passwords ;-)\n",
        "\n",
        "import itertools\n",
        "for p in itertools.permutations('ABCD'):\n",
        "...     print(p)\n",
        "\n",
        "('A', 'B', 'C', 'D')\n",
        "('A', 'B', 'D', 'C')\n",
        "('A', 'C', 'B', 'D')\n",
        "('A', 'C', 'D', 'B')\n",
        "('A', 'D', 'B', 'C')\n",
        "('A', 'D', 'C', 'B')\n",
        "('B', 'A', 'C', 'D')\n",
        "('B', 'A', 'D', 'C')\n",
        "('B', 'C', 'A', 'D')\n",
        "('B', 'C', 'D', 'A')\n",
        "('B', 'D', 'A', 'C')\n",
        "('B', 'D', 'C', 'A')\n",
        "('C', 'A', 'B', 'D')\n",
        "('C', 'A', 'D', 'B')\n",
        "('C', 'B', 'A', 'D')\n",
        "('C', 'B', 'D', 'A')\n",
        "('C', 'D', 'A', 'B')\n",
        "('C', 'D', 'B', 'A')\n",
        "('D', 'A', 'B', 'C')\n",
        "('D', 'A', 'C', 'B')\n",
        "('D', 'B', 'A', 'C')\n",
        "('D', 'B', 'C', 'A')\n",
        "('D', 'C', 'A', 'B')\n",
        "('D', 'C', 'B', 'A')"
      ],
      "execution_count": 0,
      "outputs": []
    },
    {
      "cell_type": "code",
      "metadata": {
        "id": "fZVuihtRTLb8",
        "colab_type": "code",
        "colab": {}
      },
      "source": [
        "# You can use Python's built-in \"dis\"\n",
        "# module to disassemble functions and\n",
        "# inspect their CPython VM bytecode:\n",
        "\n",
        "def greet(name):\n",
        "...     return 'Hello, ' + name + '!'\n",
        "\n",
        "greet('Dan')\n",
        "'Hello, Dan!'\n",
        "\n",
        "import dis\n",
        "dis.dis(greet)\n",
        "2   0 LOAD_CONST     1 ('Hello, ')\n",
        "    2 LOAD_FAST      0 (name)\n",
        "    4 BINARY_ADD\n",
        "    6 LOAD_CONST     2 ('!')\n",
        "    8 BINARY_ADD\n",
        "   10 RETURN_VALUE"
      ],
      "execution_count": 0,
      "outputs": []
    },
    {
      "cell_type": "code",
      "metadata": {
        "id": "Mr_12cY0TLb-",
        "colab_type": "code",
        "colab": {}
      },
      "source": [
        "# @classmethod vs @staticmethod vs \"plain\" methods\n",
        "# What's the difference?\n",
        "\n",
        "class MyClass:\n",
        "    def method(self):\n",
        "        \"\"\"\n",
        "        Instance methods need a class instance and\n",
        "        can access the instance through `self`.\n",
        "        \"\"\"\n",
        "        return 'instance method called', self\n",
        "\n",
        "    @classmethod\n",
        "    def classmethod(cls):\n",
        "        \"\"\"\n",
        "        Class methods don't need a class instance.\n",
        "        They can't access the instance (self) but\n",
        "        they have access to the class itself via `cls`.\n",
        "        \"\"\"\n",
        "        return 'class method called', cls\n",
        "\n",
        "    @staticmethod\n",
        "    def staticmethod():\n",
        "        \"\"\"\n",
        "        Static methods don't have access to `cls` or `self`.\n",
        "        They work like regular functions but belong to\n",
        "        the class's namespace.\n",
        "        \"\"\"\n",
        "        return 'static method called'\n",
        "\n",
        "# All methods types can be\n",
        "# called on a class instance:\n",
        ">>> obj = MyClass()\n",
        ">>> obj.method()\n",
        "('instance method called', <MyClass instance at 0x1019381b8>)\n",
        ">>> obj.classmethod()\n",
        "('class method called', <class MyClass at 0x101a2f4c8>)\n",
        ">>> obj.staticmethod()\n",
        "'static method called'\n",
        "\n",
        "# Calling instance methods fails\n",
        "# if we only have the class object:\n",
        ">>> MyClass.classmethod()\n",
        "('class method called', <class MyClass at 0x101a2f4c8>)\n",
        ">>> MyClass.staticmethod()\n",
        "'static method called'\n",
        ">>> MyClass.method()\n",
        "TypeError: \n",
        "    \"unbound method method() must be called with MyClass \"\n",
        "    \"instance as first argument (got nothing instead)\""
      ],
      "execution_count": 0,
      "outputs": []
    },
    {
      "cell_type": "code",
      "metadata": {
        "id": "sEF6D9_ITLb_",
        "colab_type": "code",
        "colab": {}
      },
      "source": [
        "# You can check for class\n",
        "# inheritance relationships \n",
        "# with the \"issubclass()\" built-in:\n",
        "\n",
        ">>> class BaseClass: pass\n",
        ">>> class SubClass(BaseClass): pass\n",
        "\n",
        ">>> issubclass(SubClass, BaseClass)\n",
        "True\n",
        ">>> issubclass(SubClass, object)\n",
        "True\n",
        ">>> issubclass(BaseClass, SubClass)\n",
        "False"
      ],
      "execution_count": 0,
      "outputs": []
    },
    {
      "cell_type": "code",
      "metadata": {
        "id": "4HwNmr05TLcB",
        "colab_type": "code",
        "colab": {}
      },
      "source": [
        "# You can get the name of\n",
        "# an object's class as a\n",
        "# string:\n",
        "\n",
        ">>> class MyClass: pass\n",
        "\n",
        ">>> obj = MyClass()\n",
        ">>> obj.__class__.__name__\n",
        "'MyClass'\n",
        "\n",
        "# Functions have a\n",
        "# similar feature:\n",
        "\n",
        ">>> def myfunc(): pass\n",
        "\n",
        ">>> myfunc.__name__\n",
        "'myfunc'\n"
      ],
      "execution_count": 0,
      "outputs": []
    },
    {
      "cell_type": "code",
      "metadata": {
        "id": "ijXL5ybJTLcD",
        "colab_type": "code",
        "colab": {}
      },
      "source": [
        "\n",
        "\n",
        "# Python 3 allows unicode\n",
        "# variable names:\n",
        "import math\n",
        "\n",
        "π = math.pi\n",
        "class Spin̈alTap: pass\n",
        "Spin̈alTap()\n",
        "\n",
        "# Only letter-like characters\n",
        "# work, however:\n",
        "\n",
        "#>>> 🍺 = \"beer\"\n",
        "#SyntaxError:\n",
        "#\"invalid character in identifier\"\n",
        "\n",
        "#Note: This is probably not something I'd recommend for \"production-quality\" code—but it can make for some fun experimentation.\n",
        "\n",
        "محمد = 'mohamad'"
      ],
      "execution_count": 0,
      "outputs": []
    },
    {
      "cell_type": "code",
      "metadata": {
        "id": "UlBApyMRTLcF",
        "colab_type": "code",
        "colab": {},
        "outputId": "5469a861-f175-42e5-beb3-b142dbc3ee5b"
      },
      "source": [
        "محمد"
      ],
      "execution_count": 0,
      "outputs": [
        {
          "output_type": "execute_result",
          "data": {
            "text/plain": [
              "'mohamad'"
            ]
          },
          "metadata": {
            "tags": [],
            "bento_obj_id": "140273800463896"
          },
          "execution_count": 7
        }
      ]
    },
    {
      "cell_type": "code",
      "metadata": {
        "id": "HRyAJiJvTLcH",
        "colab_type": "code",
        "colab": {}
      },
      "source": [
        "# Virtual Environments (\"virtualenvs\") keep\n",
        "# your project dependencies separated.\n",
        "# They help you avoid version conflicts\n",
        "# between packages and different versions\n",
        "# of the Python runtime.\n",
        "\n",
        "# Before creating & activating a virtualenv:\n",
        "# `python` and `pip` map to the system\n",
        "# version of the Python interpreter\n",
        "# (e.g. Python 2.7)\n",
        "$ which python\n",
        "/usr/local/bin/python\n",
        "\n",
        "# Let's create a fresh virtualenv using\n",
        "# another version of Python (Python 3):\n",
        "$ python3 -m venv ./venv\n",
        "\n",
        "# A virtualenv is just a \"Python\n",
        "# environment in a folder\":\n",
        "$ ls ./venv\n",
        "bin      include    lib      pyvenv.cfg\n",
        "\n",
        "# Activating a virtualenv configures the\n",
        "# current shell session to use the python\n",
        "# (and pip) commands from the virtualenv\n",
        "# folder instead of the global environment:\n",
        "$ source ./venv/bin/activate\n",
        "\n",
        "# Note how activating a virtualenv modifies\n",
        "# your shell prompt with a little note\n",
        "# showing the name of the virtualenv folder:\n",
        "(venv) $ echo \"wee!\"\n",
        "\n",
        "# With an active virtualenv, the `python`\n",
        "# command maps to the interpreter binary\n",
        "# *inside the active virtualenv*:\n",
        "(venv) $ which python\n",
        "/Users/dan/my-project/venv/bin/python3\n",
        "\n",
        "# Installing new libraries and frameworks\n",
        "# with `pip` now installs them *into the\n",
        "# virtualenv sandbox*, leaving your global\n",
        "# environment (and any other virtualenvs)\n",
        "# completely unmodified:\n",
        "(venv) $ pip install requests\n",
        "\n",
        "# To get back to the global Python\n",
        "# environment, run the following command:\n",
        "(venv) $ deactivate\n",
        "\n",
        "# (See how the prompt changed back\n",
        "# to \"normal\" again?)\n",
        "$ echo \"yay!\"\n",
        "\n",
        "# Deactivating the virtualenv flipped the\n",
        "# `python` and `pip` commands back to\n",
        "# the global environment:\n",
        "$ which python\n",
        "/usr/local/bin/python"
      ],
      "execution_count": 0,
      "outputs": []
    },
    {
      "cell_type": "code",
      "metadata": {
        "id": "cHiUbpcMTLcM",
        "colab_type": "code",
        "colab": {}
      },
      "source": [
        "# Python's `for` and `while` loops\n",
        "# support an `else` clause that executes\n",
        "# only if the loops terminates without\n",
        "# hitting a `break` statement.\n",
        "\n",
        "def contains(haystack, needle):\n",
        "    \"\"\"\n",
        "    Throw a ValueError if `needle` not\n",
        "    in `haystack`.\n",
        "    \"\"\"\n",
        "    for item in haystack:\n",
        "        if item == needle:\n",
        "            break\n",
        "    else:\n",
        "        # The `else` here is a\n",
        "        # \"completion clause\" that runs\n",
        "        # only if the loop ran to completion\n",
        "        # without hitting a `break` statement.\n",
        "        raise ValueError('Needle not found')\n",
        "\n",
        "\n",
        ">>> contains([23, 'needle', 0xbadc0ffee], 'needle')\n",
        "None\n",
        "\n",
        ">>> contains([23, 42, 0xbadc0ffee], 'needle')\n",
        "ValueError: \"Needle not found\"\n",
        "\n",
        "\n",
        "# Personally, I'm not a fan of the `else`\n",
        "# \"completion clause\" in loops because\n",
        "# I find it confusing. I'd rather do\n",
        "# something like this:\n",
        "def better_contains(haystack, needle):\n",
        "    for item in haystack:\n",
        "        if item == needle:\n",
        "            return\n",
        "    raise ValueError('Needle not found')\n",
        "\n",
        "# Note: Typically you'd write something\n",
        "# like this to do a membership test,\n",
        "# which is much more Pythonic:\n",
        "if needle not in haystack:\n",
        "    raise ValueError('Needle not found')"
      ],
      "execution_count": 0,
      "outputs": []
    },
    {
      "cell_type": "code",
      "metadata": {
        "id": "yDf4nSO1TLcP",
        "colab_type": "code",
        "colab": {}
      },
      "source": [
        "# Python's `for` and `while` loops\n",
        "# support an `else` clause that executes\n",
        "# only if the loops terminates without\n",
        "# hitting a `break` statement.\n",
        "\n",
        "def contains(haystack, needle):\n",
        "    \"\"\"\n",
        "    Throw a ValueError if `needle` not\n",
        "    in `haystack`.\n",
        "    \"\"\"\n",
        "    for item in haystack:\n",
        "        if item == needle:\n",
        "            break\n",
        "    else:\n",
        "        # The `else` here is a\n",
        "        # \"completion clause\" that runs\n",
        "        # only if the loop ran to completion\n",
        "        # without hitting a `break` statement.\n",
        "        raise ValueError('Needle not found')\n",
        "\n",
        "\n",
        ">>> contains([23, 'needle', 0xbadc0ffee], 'needle')\n",
        "None\n",
        "\n",
        ">>> contains([23, 42, 0xbadc0ffee], 'needle')\n",
        "ValueError: \"Needle not found\"\n",
        "\n",
        "\n",
        "# Personally, I'm not a fan of the `else`\n",
        "# \"completion clause\" in loops because\n",
        "# I find it confusing. I'd rather do\n",
        "# something like this:\n",
        "def better_contains(haystack, needle):\n",
        "    for item in haystack:\n",
        "        if item == needle:\n",
        "            return\n",
        "    raise ValueError('Needle not found')\n",
        "\n",
        "# Note: Typically you'd write something\n",
        "# like this to do a membership test,\n",
        "# which is much more Pythonic:\n",
        "if needle not in haystack:\n",
        "    raise ValueError('Needle not found')"
      ],
      "execution_count": 0,
      "outputs": []
    },
    {
      "cell_type": "code",
      "metadata": {
        "id": "dTkXdY_3TLcS",
        "colab_type": "code",
        "colab": {}
      },
      "source": [
        "\n",
        "\n",
        "# In Python 3 you can use a bare \"*\" asterisk\n",
        "# in function parameter lists to force the\n",
        "# caller to use keyword arguments for certain\n",
        "# parameters:\n",
        "\n",
        "def f(a, b, *, c='x', d='y', e='z'):\n",
        "...     return 'Hello'\n",
        "\n",
        "# To pass the value for c, d, and e you \n",
        "# will need to explicitly pass it as \n",
        "# \"key=value\" named arguments:\n",
        "f(1, 2, 'p', 'q', 'v')\n",
        "TypeError: \n",
        "\"f() takes 2 positional arguments but 5 were given\"\n",
        "\n",
        "f(1, 2, c='p', d='q',e='v')\n",
        "'Hello'\n",
        "\n"
      ],
      "execution_count": 0,
      "outputs": []
    },
    {
      "cell_type": "code",
      "metadata": {
        "id": "bBThODdWTLcV",
        "colab_type": "code",
        "colab": {}
      },
      "source": [
        "def _columns():\n",
        "    columns = {\n",
        "        # common to every select statement:\n",
        "        'common': [\n",
        "            'userid', 'interface', 'device_model', 'app_version',\n",
        "            'is_primary_14', 'device_interface_first_used',\n",
        "            'os_version', 'device_year_class', 'device_brand',\n",
        "            'device_type', 'connection_class', 'country', 'facebookage'],\n",
        "    }\n",
        "\n",
        "    return columns"
      ],
      "execution_count": 0,
      "outputs": []
    },
    {
      "cell_type": "code",
      "metadata": {
        "id": "xlVSNGsVTLcX",
        "colab_type": "code",
        "colab": {},
        "outputId": "26e08048-1307-4305-f94e-8c329c8399e5"
      },
      "source": [
        "_columns()['common']"
      ],
      "execution_count": 0,
      "outputs": [
        {
          "output_type": "execute_result",
          "data": {
            "text/plain": [
              "['userid',\n",
              " 'interface',\n",
              " 'device_model',\n",
              " 'app_version',\n",
              " 'is_primary_14',\n",
              " 'device_interface_first_used',\n",
              " 'os_version',\n",
              " 'device_year_class',\n",
              " 'device_brand',\n",
              " 'device_type',\n",
              " 'connection_class',\n",
              " 'country',\n",
              " 'facebookage']"
            ]
          },
          "metadata": {
            "tags": [],
            "bento_obj_id": "140393246784320"
          },
          "execution_count": 4
        }
      ]
    },
    {
      "cell_type": "code",
      "metadata": {
        "id": "QeHoFH-rTLcZ",
        "colab_type": "code",
        "colab": {}
      },
      "source": [
        "weightMatrix = [{'A':k,'C':0,'G':0,'T':0} for k in range(5)]"
      ],
      "execution_count": 0,
      "outputs": []
    },
    {
      "cell_type": "code",
      "metadata": {
        "id": "80sYSq5BTLca",
        "colab_type": "code",
        "colab": {}
      },
      "source": [
        "columns_to_build = [\n",
        "    \"dob_hist\",\n",
        "    \"account_status_hist\",\n",
        "    \"country_prediction_hist\",\n",
        "    \"city_prediction_hist\",\n",
        "    \"country_from_ip_hist\",\n",
        "    \"city_from_ip_hist\",\n",
        "    \"locale_hist\",\n",
        "    \"confirmed_time_hist\",\n",
        "    \"l7_hist\",\n",
        "    \"l28_hist\",\n",
        "]\n",
        "\n",
        "# columns from dim_all_users\n",
        "columns_to_read = [\n",
        "    \"dob\",\n",
        "    \"accountstatus\",\n",
        "    \"country_prediction\",\n",
        "    \"city_prediction\",\n",
        "    \"country_from_ip\",\n",
        "    \"city_from_ip\",\n",
        "    \"locale\",\n",
        "    \"confirmedtime\",\n",
        "    \"l7\",\n",
        "    \"l28\",\n",
        "]\n",
        "\n",
        "\n",
        "columns_description = [\n",
        "    \"user's date og birth yyyy-mm-dd\",\n",
        "    \"\"\"Full list: https://phabricator.intern.facebook.com/diffusion/E/browse/\n",
        "    tfb/trunk/www/flib/account/core/constants/AccountStatus.php;3371063$7\n",
        "    \"\"\",\n",
        "    \"\"\"Our best estimate of what country the person lives, based on historical\n",
        "    data (not necessarily where they are right now), from geo_user_home_predictions\n",
        "    \"\"\",\n",
        "    \"\"\"\n",
        "        Our best estimate of what city the person lives in, based on historical\n",
        "        data (not necessarily where they are right now), from geo_user_home_predictions.\n",
        "        The city is in integer (id) format. Use hive table\n",
        "        dim_location_cities_active:entities to lookup the name.\n",
        "    \"\"\",\n",
        "    \"Country discerned from user's IP address\",\n",
        "    \"City discerned from user's IP address\",\n",
        "    \"User's locale. Empty if they have not set it.\",\n",
        "    \"Time user confirmed their first email address\",\n",
        "    \"Number of days out the last 7 the user has taken some action (web, mobile, or platform)\",\n",
        "    \"Number of days out the last 28 the user has taken some action (web, mobile, or platform)\",\n",
        "]\n",
        "\n",
        "\n",
        "columns_list = [\n",
        "    {\"input_col\": in_col, \"output_col\": out_col, \"description\": desc}\n",
        "    for in_col, out_col, desc in zip(columns_to_read, columns_to_build, columns_description)\n",
        "]"
      ],
      "execution_count": 0,
      "outputs": []
    },
    {
      "cell_type": "code",
      "metadata": {
        "id": "yGjnCnxGTLcc",
        "colab_type": "code",
        "colab": {}
      },
      "source": [
        "ddd = columns_list[1][\"output_col\"]"
      ],
      "execution_count": 0,
      "outputs": []
    },
    {
      "cell_type": "code",
      "metadata": {
        "id": "nLoIdtu-TLcd",
        "colab_type": "code",
        "colab": {},
        "outputId": "00b7a703-b387-4fa2-b0ad-e2ac179189b9"
      },
      "source": [
        "f\"fb_users_anon_{ddd}\""
      ],
      "execution_count": 0,
      "outputs": [
        {
          "output_type": "execute_result",
          "data": {
            "text/plain": [
              "'fb_users_anon_account_status_hist'"
            ]
          },
          "metadata": {
            "tags": [],
            "bento_obj_id": "140535030755024"
          },
          "execution_count": 28
        }
      ]
    },
    {
      "cell_type": "code",
      "metadata": {
        "id": "Ylk436AeTLcf",
        "colab_type": "code",
        "colab": {}
      },
      "source": [
        "class Person:\n",
        "    def __init__(self, name):\n",
        "        self.name = name"
      ],
      "execution_count": 0,
      "outputs": []
    },
    {
      "cell_type": "code",
      "metadata": {
        "id": "OqzjkjFwTLcg",
        "colab_type": "code",
        "colab": {}
      },
      "source": [
        "col = [Person(\"Emmy\") for i in range(3)] + [Person(\"rami\")]"
      ],
      "execution_count": 0,
      "outputs": []
    },
    {
      "cell_type": "code",
      "metadata": {
        "id": "EsbBBptDTLcj",
        "colab_type": "code",
        "colab": {},
        "outputId": "7de7be37-5713-4317-e4b6-6a947109bf3b"
      },
      "source": [
        "col"
      ],
      "execution_count": 0,
      "outputs": [
        {
          "output_type": "execute_result",
          "data": {
            "text/plain": [
              "[<__main__.Person at 0x7fbdb3866850>,\n",
              " <__main__.Person at 0x7fbdb3866890>,\n",
              " <__main__.Person at 0x7fbdb38668d0>,\n",
              " <__main__.Person at 0x7fbdb3866910>]"
            ]
          },
          "metadata": {
            "tags": [],
            "bento_obj_id": "140452737296496"
          },
          "execution_count": 9
        }
      ]
    },
    {
      "cell_type": "code",
      "metadata": {
        "id": "VA-BdsrITLcl",
        "colab_type": "code",
        "colab": {},
        "outputId": "99d400fc-b6a8-4a3d-b4c3-66ac7a94ae3f"
      },
      "source": [
        "col[0]"
      ],
      "execution_count": 0,
      "outputs": [
        {
          "output_type": "execute_result",
          "data": {
            "text/plain": [
              "<__main__.Person at 0x7fbdb3855210>"
            ]
          },
          "metadata": {
            "tags": [],
            "bento_obj_id": "140452737405456"
          },
          "execution_count": 4
        }
      ]
    },
    {
      "cell_type": "code",
      "metadata": {
        "id": "H9mEB0MSTLcq",
        "colab_type": "code",
        "colab": {},
        "outputId": "447e657f-519b-454e-9279-1b1ae2ac40c5"
      },
      "source": [
        "import dis\n",
        "\n",
        "def fib(n):\n",
        "    if n <= 2: return 1\n",
        "    return fib(n-1) + fib(n-2)\n",
        "\n",
        "# Display the disassembled bytecode of the function.\n",
        "dis.dis(fib)"
      ],
      "execution_count": 0,
      "outputs": [
        {
          "output_type": "stream",
          "text": [
            "  4           0 LOAD_FAST                0 (n)\n",
            "              2 LOAD_CONST               1 (2)\n",
            "              4 COMPARE_OP               1 (<=)\n",
            "              6 POP_JUMP_IF_FALSE       12\n",
            "              8 LOAD_CONST               2 (1)\n",
            "             10 RETURN_VALUE\n",
            "\n",
            "  5     >>   12 LOAD_GLOBAL              0 (fib)\n",
            "             14 LOAD_FAST                0 (n)\n",
            "             16 LOAD_CONST               2 (1)\n",
            "             18 BINARY_SUBTRACT\n",
            "             20 CALL_FUNCTION            1\n",
            "             22 LOAD_GLOBAL              0 (fib)\n",
            "             24 LOAD_FAST                0 (n)\n",
            "             26 LOAD_CONST               1 (2)\n",
            "             28 BINARY_SUBTRACT\n",
            "             30 CALL_FUNCTION            1\n",
            "             32 BINARY_ADD\n",
            "             34 RETURN_VALUE\n"
          ],
          "name": "stdout"
        }
      ]
    },
    {
      "cell_type": "code",
      "metadata": {
        "id": "M4JSDIq9TLcs",
        "colab_type": "code",
        "colab": {}
      },
      "source": [
        "# output columns 'Arrays of structs'\n",
        "columns_to_build = [\n",
        "    \"dob_hist\",\n",
        "    \"account_status_hist\",\n",
        "    \"country_prediction_hist\",\n",
        "    \"city_prediction_hist\",\n",
        "    \"country_from_ip_hist\",\n",
        "    \"city_from_ip_hist\",\n",
        "    \"locale_hist\",\n",
        "    \"confirmed_time_hist\",\n",
        "    \"l7_hist\",\n",
        "    \"l28_hist\",\n",
        "]\n",
        "\n",
        "# columns from dim_all_users\n",
        "columns_to_read = [\n",
        "    \"dob\",\n",
        "    \"accountstatus\",\n",
        "    \"country_prediction\",\n",
        "    \"city_prediction\",\n",
        "    \"country_from_ip\",\n",
        "    \"city_from_ip\",\n",
        "    \"locale\",\n",
        "    \"confirmedtime\",\n",
        "    \"l7\",\n",
        "    \"l28\",\n",
        "]\n",
        "\n",
        "\n",
        "columns_description = [\n",
        "    \"user's date og birth yyyy-mm-dd\",\n",
        "    \"\"\"Full list: https://phabricator.intern.facebook.com/diffusion/E/browse/\n",
        "    tfb/trunk/www/flib/account/core/constants/AccountStatus.php;3371063$7\n",
        "    \"\"\",\n",
        "    \"\"\"Our best estimate of what country the person lives, based on historical\n",
        "    data (not necessarily where they are right now), from geo_user_home_predictions\n",
        "    \"\"\",\n",
        "    \"\"\"\n",
        "        Our best estimate of what city the person lives in, based on historical\n",
        "        data (not necessarily where they are right now), from geo_user_home_predictions.\n",
        "        The city is in integer (id) format. Use hive table\n",
        "        dim_location_cities_active:entities to lookup the name.\n",
        "    \"\"\",\n",
        "    \"Country discerned from user's IP address\",\n",
        "    \"City discerned from user's IP address\",\n",
        "    \"User's locale. Empty if they have not set it.\",\n",
        "    \"Time user confirmed their first email address\",\n",
        "    \"Number of days out the last 7 the user has taken some action (web, mobile, or platform)\",\n",
        "    \"Number of days out the last 28 the user has taken some action (web, mobile, or platform)\",\n",
        "]\n",
        "\n",
        "\n",
        "columns_list = [\n",
        "    {\"input_col\": in_col, \"output_col\": out_col, \"description\": desc}\n",
        "    for in_col, out_col, desc in zip(\n",
        "        columns_to_read, columns_to_build, columns_description\n",
        "    )\n",
        "]\n",
        "\n",
        "\n",
        "temp_tables = [\n",
        "    f\"\"\"<TABLE:dim_fb_users_{column[\"output_col\"]}_tmp>\"\"\" for column in columns_list\n",
        "]"
      ],
      "execution_count": 0,
      "outputs": []
    },
    {
      "cell_type": "code",
      "metadata": {
        "id": "31dipl_oTLct",
        "colab_type": "code",
        "colab": {}
      },
      "source": [
        "def join_creator(main_table, tables, main_pk):    \n",
        "     result = f\"\"\"SELECT \\n\\t{main_table}.user_rid\"\"\"\n",
        "     for table in tables:\n",
        "        result += f\"\"\",\\n\\t{table}.{table}\"\"\"\n",
        "     result += f\"\"\"\\nFROM <INPUT:fb_users_anon_{main_table}> {main_table} \\n\"\"\"\n",
        "     for table in tables[1:]:\n",
        "        result += f\"\"\"JOIN <INPUT:fb_users_anon_{table}> ON {main_table}.{main_pk}={table}.{main_pk}\\n\"\"\"\n",
        "     return result\n"
      ],
      "execution_count": 0,
      "outputs": []
    },
    {
      "cell_type": "code",
      "metadata": {
        "id": "mBEIBFICTLcu",
        "colab_type": "code",
        "colab": {},
        "outputId": "81841471-f9a8-40f6-ce4a-a8a7fa63690b"
      },
      "source": [
        "print(join_creator(columns_to_build[0], columns_to_build, main_pk=\"user_rid\"))"
      ],
      "execution_count": 0,
      "outputs": [
        {
          "output_type": "stream",
          "text": [
            "SELECT \n",
            "\tdob_hist.user_rid,\n",
            "\tdob_hist.dob_hist,\n",
            "\taccount_status_hist.account_status_hist,\n",
            "\tcountry_prediction_hist.country_prediction_hist,\n",
            "\tcity_prediction_hist.city_prediction_hist,\n",
            "\tcountry_from_ip_hist.country_from_ip_hist,\n",
            "\tcity_from_ip_hist.city_from_ip_hist,\n",
            "\tlocale_hist.locale_hist,\n",
            "\tconfirmed_time_hist.confirmed_time_hist,\n",
            "\tl7_hist.l7_hist,\n",
            "\tl28_hist.l28_hist\n",
            "FROM <INPUT:fb_users_anon_dob_hist> dob_hist \n",
            "JOIN <INPUT:fb_users_anon_account_status_hist> ON dob_hist.user_rid=account_status_hist.user_rid\n",
            "JOIN <INPUT:fb_users_anon_country_prediction_hist> ON dob_hist.user_rid=country_prediction_hist.user_rid\n",
            "JOIN <INPUT:fb_users_anon_city_prediction_hist> ON dob_hist.user_rid=city_prediction_hist.user_rid\n",
            "JOIN <INPUT:fb_users_anon_country_from_ip_hist> ON dob_hist.user_rid=country_from_ip_hist.user_rid\n",
            "JOIN <INPUT:fb_users_anon_city_from_ip_hist> ON dob_hist.user_rid=city_from_ip_hist.user_rid\n",
            "JOIN <INPUT:fb_users_anon_locale_hist> ON dob_hist.user_rid=locale_hist.user_rid\n",
            "JOIN <INPUT:fb_users_anon_confirmed_time_hist> ON dob_hist.user_rid=confirmed_time_hist.user_rid\n",
            "JOIN <INPUT:fb_users_anon_l7_hist> ON dob_hist.user_rid=l7_hist.user_rid\n",
            "JOIN <INPUT:fb_users_anon_l28_hist> ON dob_hist.user_rid=l28_hist.user_rid\n",
            "\n"
          ],
          "name": "stdout"
        }
      ]
    },
    {
      "cell_type": "code",
      "metadata": {
        "id": "CTbbbko6TLcw",
        "colab_type": "code",
        "colab": {}
      },
      "source": [
        "columns_list = [{'input_col': 'dob',\n",
        "  'output_col': 'dob_hist',\n",
        "  'description': \"user's date og birth yyyy-mm-dd\"},\n",
        " {'input_col': 'accountstatus',\n",
        "  'output_col': 'account_status_hist',\n",
        "  'description': 'Full list: https://phabricator.intern.facebook.com/diffusion/E/browse/\\n    tfb/trunk/www/flib/account/core/constants/AccountStatus.php;3371063$7\\n    '},\n",
        " {'input_col': 'country_prediction',\n",
        "  'output_col': 'country_prediction_hist',\n",
        "  'description': 'Our best estimate of what country the person lives, based on historical\\n    data (not necessarily where they are right now), from geo_user_home_predictions\\n    '},\n",
        " {'input_col': 'city_prediction',\n",
        "  'output_col': 'city_prediction_hist',\n",
        "  'description': '\\n        Our best estimate of what city the person lives in, based on historical\\n        data (not necessarily where they are right now), from geo_user_home_predictions.\\n        The city is in integer (id) format. Use hive table\\n        dim_location_cities_active:entities to lookup the name.\\n    '},\n",
        " {'input_col': 'country_from_ip',\n",
        "  'output_col': 'country_from_ip_hist',\n",
        "  'description': \"Country discerned from user's IP address\"},\n",
        " {'input_col': 'city_from_ip',\n",
        "  'output_col': 'city_from_ip_hist',\n",
        "  'description': \"City discerned from user's IP address\"},\n",
        " {'input_col': 'locale',\n",
        "  'output_col': 'locale_hist',\n",
        "  'description': \"User's locale. Empty if they have not set it.\"},\n",
        " {'input_col': 'confirmedtime',\n",
        "  'output_col': 'confirmed_time_hist',\n",
        "  'description': 'Time user confirmed their first email address'},\n",
        " {'input_col': 'l7',\n",
        "  'output_col': 'l7_hist',\n",
        "  'description': 'Number of days out the last 7 the user has taken some action (web, mobile, or platform)'},\n",
        " {'input_col': 'l28',\n",
        "  'output_col': 'l28_hist',\n",
        "  'description': 'Number of days out the last 28 the user has taken some action (web, mobile, or platform)'}]"
      ],
      "execution_count": 0,
      "outputs": []
    },
    {
      "cell_type": "code",
      "metadata": {
        "id": "AfwlY8XFTLcz",
        "colab_type": "code",
        "colab": {}
      },
      "source": [
        "def query_selector(column):\n",
        "    if column == \"dob\":\n",
        "        result = f\"\"\"\n",
        "            IF(\n",
        "                dob_year <> '0' OR dob_month <> '0' OR dob_day <> '0',\n",
        "                CONCAT(\n",
        "                    COALESCE(dob_year, '0000'),\n",
        "                    '-',\n",
        "                    COALESCE(dob_month, '00'),\n",
        "                    '-',\n",
        "                    COALESCE(dob_day, '00')\n",
        "                ),\n",
        "                NULL\n",
        "            ) AS dob\n",
        "            \"\"\"\n",
        "    elif column == \"l7\" or column == \"l28\":\n",
        "        result = f\"\"\"\\nCAST({column} AS STRING) AS {column}\"\"\"\n",
        "    else:\n",
        "        result = f\"\"\"\\n{column}\"\"\"\n",
        "    return result"
      ],
      "execution_count": 0,
      "outputs": []
    },
    {
      "cell_type": "code",
      "metadata": {
        "id": "Nb6lFzXyTLc1",
        "colab_type": "code",
        "colab": {},
        "outputId": "88a0246f-f281-4ca2-b921-7e86faef3711"
      },
      "source": [
        "seperator = ', '\n",
        "print(\"\"\"SELECT \\nuid_to_rid.rid,\n",
        "    \"\"\" + seperator.join([f\"\"\"{query_selector(col[\"input_col\"])}\"\"\" for col in columns_list]) + \n",
        "        f\"\"\"\n",
        "        FROM <INPUT:fb_users_today> AS today\n",
        "        JOIN <INPUT:uid_to_rid> uid_to_rid\n",
        "        ON today.userid = uid_to_rid.uid\n",
        "        \"\"\")\n",
        "        "
      ],
      "execution_count": 0,
      "outputs": [
        {
          "output_type": "stream",
          "text": [
            "SELECT \n",
            "uid_to_rid.rid,\n",
            "    \n",
            "            IF(\n",
            "                dob_year <> '0' OR dob_month <> '0' OR dob_day <> '0',\n",
            "                CONCAT(\n",
            "                    COALESCE(dob_year, '0000'),\n",
            "                    '-',\n",
            "                    COALESCE(dob_month, '00'),\n",
            "                    '-',\n",
            "                    COALESCE(dob_day, '00')\n",
            "                ),\n",
            "                NULL\n",
            "            ) AS dob\n",
            "            , \n",
            "accountstatus, \n",
            "country_prediction, \n",
            "city_prediction, \n",
            "country_from_ip, \n",
            "city_from_ip, \n",
            "locale, \n",
            "confirmedtime, \n",
            "CAST(l7 AS STRING) AS l7, \n",
            "CAST(l28 AS STRING) AS l28\n",
            "        FROM <INPUT:fb_users_today> AS today\n",
            "        JOIN <INPUT:uid_to_rid> uid_to_rid\n",
            "        ON today.userid = uid_to_rid.uid\n",
            "        \n"
          ],
          "name": "stdout"
        }
      ]
    },
    {
      "cell_type": "code",
      "metadata": {
        "id": "EJ_uDU4-TLc5",
        "colab_type": "code",
        "colab": {},
        "outputId": "244ee98f-292d-4d5f-c8a8-247d6e819013"
      },
      "source": [
        "\n",
        "print(join_creator(columns_list[0]['output_col'], tables=[ col['output_col'] for col in columns_list ], main_pk=\"user_rid\"))"
      ],
      "execution_count": 0,
      "outputs": [
        {
          "output_type": "stream",
          "text": [
            "SELECT \n",
            "\tdob_hist.user_rid,\n",
            "\tdob_hist.dob_hist,\n",
            "\taccount_status_hist.account_status_hist,\n",
            "\tcountry_prediction_hist.country_prediction_hist,\n",
            "\tcity_prediction_hist.city_prediction_hist,\n",
            "\tcountry_from_ip_hist.country_from_ip_hist,\n",
            "\tcity_from_ip_hist.city_from_ip_hist,\n",
            "\tlocale_hist.locale_hist,\n",
            "\tconfirmed_time_hist.confirmed_time_hist,\n",
            "\tl7_hist.l7_hist,\n",
            "\tl28_hist.l28_hist\n",
            "FROM <INPUT:fb_users_anon_dob_hist> dob_hist \n",
            "JOIN <INPUT:fb_users_anon_account_status_hist> ON dob_hist.user_rid=account_status_hist.user_rid\n",
            "JOIN <INPUT:fb_users_anon_country_prediction_hist> ON dob_hist.user_rid=country_prediction_hist.user_rid\n",
            "JOIN <INPUT:fb_users_anon_city_prediction_hist> ON dob_hist.user_rid=city_prediction_hist.user_rid\n",
            "JOIN <INPUT:fb_users_anon_country_from_ip_hist> ON dob_hist.user_rid=country_from_ip_hist.user_rid\n",
            "JOIN <INPUT:fb_users_anon_city_from_ip_hist> ON dob_hist.user_rid=city_from_ip_hist.user_rid\n",
            "JOIN <INPUT:fb_users_anon_locale_hist> ON dob_hist.user_rid=locale_hist.user_rid\n",
            "JOIN <INPUT:fb_users_anon_confirmed_time_hist> ON dob_hist.user_rid=confirmed_time_hist.user_rid\n",
            "JOIN <INPUT:fb_users_anon_l7_hist> ON dob_hist.user_rid=l7_hist.user_rid\n",
            "JOIN <INPUT:fb_users_anon_l28_hist> ON dob_hist.user_rid=l28_hist.user_rid\n",
            "\n"
          ],
          "name": "stdout"
        }
      ]
    },
    {
      "cell_type": "code",
      "metadata": {
        "id": "vTKuUeYCTLc6",
        "colab_type": "code",
        "colab": {}
      },
      "source": [
        "import sys"
      ],
      "execution_count": 0,
      "outputs": []
    },
    {
      "cell_type": "code",
      "metadata": {
        "id": "XN0-3KjlTLc8",
        "colab_type": "code",
        "colab": {}
      },
      "source": [
        "import torch"
      ],
      "execution_count": 0,
      "outputs": []
    },
    {
      "cell_type": "code",
      "metadata": {
        "id": "p4j0NFXdTLc9",
        "colab_type": "code",
        "colab": {}
      },
      "source": [
        "import pip"
      ],
      "execution_count": 0,
      "outputs": []
    },
    {
      "cell_type": "code",
      "metadata": {
        "id": "HSEDlAhTTLc_",
        "colab_type": "code",
        "colab": {},
        "outputId": "ce16c699-b040-4f2e-fb21-93b4d7cbac56"
      },
      "source": [
        "pip"
      ],
      "execution_count": 0,
      "outputs": [
        {
          "output_type": "execute_result",
          "data": {
            "text/plain": [
              "<module 'pip' from '/mnt/xarfuse/uid-152755/ebae4050-ns-4026531840/pip/__init__.py'>"
            ]
          },
          "metadata": {
            "tags": [],
            "bento_obj_id": "139918895934256"
          },
          "execution_count": 10
        }
      ]
    },
    {
      "cell_type": "code",
      "metadata": {
        "id": "1VlglYfcTLdB",
        "colab_type": "code",
        "colab": {}
      },
      "source": [
        "# Python 3.5+ allows passing multiple sets\n",
        "# of keyword arguments (\"kwargs\") to a\n",
        "# function within a single call, using\n",
        "# the \"**\" syntax:\n",
        "\n",
        ">>> def process_data(a, b, c, d):\n",
        ">>>    print(a, b, c, d)\n",
        "\n",
        ">>> x = {'a': 1, 'b': 2}\n",
        ">>> y = {'c': 3, 'd': 4}\n",
        "\n",
        ">>> process_data(**x, **y)\n",
        "1 2 3 4\n",
        "\n",
        ">>> process_data(**x, c=23, d=42)\n",
        "1 2 23 42"
      ],
      "execution_count": 0,
      "outputs": []
    }
  ]
}